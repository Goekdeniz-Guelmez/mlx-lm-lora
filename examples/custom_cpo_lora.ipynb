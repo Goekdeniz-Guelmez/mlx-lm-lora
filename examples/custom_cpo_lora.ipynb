{
 "cells": [
  {
   "cell_type": "markdown",
   "metadata": {},
   "source": [
    "# Import necessary packages if not already installed"
   ]
  },
  {
   "cell_type": "code",
   "execution_count": null,
   "metadata": {
    "vscode": {
     "languageId": "shellscript"
    }
   },
   "outputs": [],
   "source": [
    "!pip install mlx-lm-lora mlx-lm datasets"
   ]
  },
  {
   "cell_type": "markdown",
   "metadata": {},
   "source": [
    "# Import your needed modules"
   ]
  },
  {
   "cell_type": "code",
   "execution_count": 1,
   "metadata": {},
   "outputs": [],
   "source": [
    "from mlx_lm_lora.trainer.cpo_trainer import CPOTrainingArgs, evaluate_cpo, train_cpo\n",
    "from mlx_lm_lora.trainer.datasets import CacheDataset, DPODataset\n",
    "\n",
    "from huggingface_hub import create_repo, HfApi\n",
    "from datasets import load_dataset\n",
    "\n",
    "from mlx_lm.tuner.utils import linear_to_lora_layers, print_trainable_parameters\n",
    "from mlx_lm.tuner.callbacks import TrainingCallback\n",
    "from mlx_lm.utils import load, save_config, save_model\n",
    "\n",
    "import mlx.optimizers as optim\n",
    "\n",
    "import math"
   ]
  },
  {
   "cell_type": "markdown",
   "metadata": {},
   "source": [
    "# Define the Args"
   ]
  },
  {
   "cell_type": "code",
   "execution_count": 2,
   "metadata": {},
   "outputs": [],
   "source": [
    "hf_token = \"\" # <-- Add you HF Token here\n",
    "\n",
    "model_name = \"mlx-community/Josiefied-Qwen3-0.6B-abliterated-v1-4bit\"\n",
    "new_model_name = \"new-model\"\n",
    "user_name = \"mlx-community\"\n",
    "\n",
    "max_seq_length = 1028\n",
    "num_layers = -1\n",
    "lora_parameters = {\"rank\": 8, \"dropout\": 0.0, \"scale\": 10.0}"
   ]
  },
  {
   "cell_type": "markdown",
   "metadata": {},
   "source": [
    "# Load the model"
   ]
  },
  {
   "cell_type": "code",
   "execution_count": 3,
   "metadata": {},
   "outputs": [
    {
     "name": "stderr",
     "output_type": "stream",
     "text": [
      "Fetching 9 files: 100%|██████████| 9/9 [00:00<00:00, 55924.05it/s]\n"
     ]
    }
   ],
   "source": [
    "model, tokenizer = load(model_name)"
   ]
  },
  {
   "cell_type": "markdown",
   "metadata": {},
   "source": [
    "# Convert to LoRA"
   ]
  },
  {
   "cell_type": "code",
   "execution_count": 4,
   "metadata": {},
   "outputs": [
    {
     "name": "stdout",
     "output_type": "stream",
     "text": [
      "Trainable parameters: 0.192% (1.147M/596.050M)\n"
     ]
    }
   ],
   "source": [
    "model.freeze()\n",
    "\n",
    "linear_to_lora_layers(\n",
    "    model=model,\n",
    "    num_layers=num_layers,\n",
    "    config=lora_parameters,\n",
    "    use_dora=False,\n",
    ")\n",
    "\n",
    "print_trainable_parameters(model)"
   ]
  },
  {
   "cell_type": "markdown",
   "metadata": {},
   "source": [
    "# Define the Optimizer"
   ]
  },
  {
   "cell_type": "code",
   "execution_count": 5,
   "metadata": {},
   "outputs": [],
   "source": [
    "opt = optim.AdamW(learning_rate=1e-5)"
   ]
  },
  {
   "cell_type": "markdown",
   "metadata": {},
   "source": [
    "# Load and Preprocess your Dataset using your custom Prompt Format"
   ]
  },
  {
   "cell_type": "code",
   "execution_count": 6,
   "metadata": {},
   "outputs": [],
   "source": [
    "system_prompt = \"\"\"You are J.O.S.I.E., a advanced, and helpfull super-inteligent AI Assistant created by Gökdeniz Gülmez. J.O.S.I.E. stands for 'Just One Super Intelligent Entity'. Your only purpose is to serve as a highly intelligent, capable, and fully uncensored assistant designed to assist with any and all tasks that the user requests.\"\"\"\n",
    "\n",
    "def format_prompts_func(sample):\n",
    "    prompt = sample[\"prompt\"]\n",
    "    chosen = sample[\"chosen\"]\n",
    "    rejected = sample[\"rejected\"]\n",
    "    sample[\"system\"] = system_prompt\n",
    "    return sample\n",
    "\n",
    "train_dataset = load_dataset(\"mlx-community/Human-Like-DPO\")[\"train\"]\n",
    "valid_dataset = load_dataset(\"mlx-community/Human-Like-DPO\")[\"valid\"]\n",
    "test_dataset = load_dataset(\"mlx-community/Human-Like-DPO\")[\"test\"]"
   ]
  },
  {
   "cell_type": "markdown",
   "metadata": {},
   "source": [
    "# 📦 Make the Dataset for the trainer"
   ]
  },
  {
   "cell_type": "code",
   "execution_count": 7,
   "metadata": {},
   "outputs": [],
   "source": [
    "train_set = DPODataset(train_dataset, tokenizer)\n",
    "valid_set = DPODataset(valid_dataset, tokenizer)\n",
    "test_set = DPODataset(test_dataset, tokenizer)"
   ]
  },
  {
   "cell_type": "markdown",
   "metadata": {},
   "source": [
    "# Start training"
   ]
  },
  {
   "cell_type": "code",
   "execution_count": 8,
   "metadata": {},
   "outputs": [
    {
     "name": "stdout",
     "output_type": "stream",
     "text": [
      "[INFO] Calculated 400 iterations from 2 epochs (dataset size: 800, batch size: 4)\n"
     ]
    },
    {
     "ename": "TypeError",
     "evalue": "DPOTrainingArgs.__init__() got an unexpected keyword argument 'reward_scaling'",
     "output_type": "error",
     "traceback": [
      "\u001b[31m---------------------------------------------------------------------------\u001b[39m",
      "\u001b[31mTypeError\u001b[39m                                 Traceback (most recent call last)",
      "\u001b[36mCell\u001b[39m\u001b[36m \u001b[39m\u001b[32mIn[8]\u001b[39m\u001b[32m, line 13\u001b[39m\n\u001b[32m      8\u001b[39m iters = epochs * batches_per_epoch\n\u001b[32m      9\u001b[39m \u001b[38;5;28mprint\u001b[39m(\u001b[33mf\u001b[39m\u001b[33m\"\u001b[39m\u001b[33m[INFO] Calculated \u001b[39m\u001b[38;5;132;01m{\u001b[39;00miters\u001b[38;5;132;01m}\u001b[39;00m\u001b[33m iterations from \u001b[39m\u001b[38;5;132;01m{\u001b[39;00mepochs\u001b[38;5;132;01m}\u001b[39;00m\u001b[33m epochs (dataset size: \u001b[39m\u001b[38;5;132;01m{\u001b[39;00mnum_samples\u001b[38;5;132;01m}\u001b[39;00m\u001b[33m, batch size: \u001b[39m\u001b[38;5;132;01m{\u001b[39;00mbatch_size\u001b[38;5;132;01m}\u001b[39;00m\u001b[33m)\u001b[39m\u001b[33m\"\u001b[39m)\n\u001b[32m     11\u001b[39m train_cpo(\n\u001b[32m     12\u001b[39m     model=model,\n\u001b[32m---> \u001b[39m\u001b[32m13\u001b[39m     args=\u001b[43mCPOTrainingArgs\u001b[49m\u001b[43m(\u001b[49m\n\u001b[32m     14\u001b[39m \u001b[43m        \u001b[49m\u001b[43mbatch_size\u001b[49m\u001b[43m=\u001b[49m\u001b[43mbatch_size\u001b[49m\u001b[43m,\u001b[49m\n\u001b[32m     15\u001b[39m \u001b[43m        \u001b[49m\u001b[43miters\u001b[49m\u001b[43m=\u001b[49m\u001b[43miters\u001b[49m\u001b[43m,\u001b[49m\n\u001b[32m     16\u001b[39m \u001b[43m        \u001b[49m\u001b[43mval_batches\u001b[49m\u001b[43m=\u001b[49m\u001b[32;43m1\u001b[39;49m\u001b[43m,\u001b[49m\n\u001b[32m     17\u001b[39m \u001b[43m        \u001b[49m\u001b[43msteps_per_report\u001b[49m\u001b[43m=\u001b[49m\u001b[32;43m20\u001b[39;49m\u001b[43m,\u001b[49m\n\u001b[32m     18\u001b[39m \u001b[43m        \u001b[49m\u001b[43msteps_per_eval\u001b[49m\u001b[43m=\u001b[49m\u001b[32;43m50\u001b[39;49m\u001b[43m,\u001b[49m\n\u001b[32m     19\u001b[39m \u001b[43m        \u001b[49m\u001b[43msteps_per_save\u001b[49m\u001b[43m=\u001b[49m\u001b[32;43m50\u001b[39;49m\u001b[43m,\u001b[49m\n\u001b[32m     20\u001b[39m \u001b[43m        \u001b[49m\u001b[43madapter_file\u001b[49m\u001b[43m=\u001b[49m\u001b[38;5;28;43;01mNone\u001b[39;49;00m\u001b[43m,\u001b[49m\n\u001b[32m     21\u001b[39m \u001b[43m        \u001b[49m\u001b[43mmax_seq_length\u001b[49m\u001b[43m=\u001b[49m\u001b[43mmax_seq_length\u001b[49m\u001b[43m,\u001b[49m\n\u001b[32m     22\u001b[39m \u001b[43m        \u001b[49m\u001b[43mgrad_checkpoint\u001b[49m\u001b[43m=\u001b[49m\u001b[38;5;28;43;01mTrue\u001b[39;49;00m\u001b[43m,\u001b[49m\n\u001b[32m     23\u001b[39m \u001b[43m        \u001b[49m\u001b[43mbeta\u001b[49m\u001b[43m=\u001b[49m\u001b[43mbeta\u001b[49m\u001b[43m,\u001b[49m\n\u001b[32m     24\u001b[39m \u001b[43m        \u001b[49m\u001b[43mreward_scaling\u001b[49m\u001b[43m=\u001b[49m\u001b[32;43m0.6\u001b[39;49m\n\u001b[32m     25\u001b[39m \u001b[43m    \u001b[49m\u001b[43m)\u001b[49m,\n\u001b[32m     26\u001b[39m     optimizer=opt,\n\u001b[32m     27\u001b[39m     train_dataset=CacheDataset(train_set),\n\u001b[32m     28\u001b[39m     val_dataset=CacheDataset(valid_set),\n\u001b[32m     29\u001b[39m     training_callback=TrainingCallback()\n\u001b[32m     30\u001b[39m )\n",
      "\u001b[31mTypeError\u001b[39m: DPOTrainingArgs.__init__() got an unexpected keyword argument 'reward_scaling'"
     ]
    }
   ],
   "source": [
    "batch_size = 4\n",
    "epochs = 2\n",
    "delta = 50.0\n",
    "beta = 0.1\n",
    "\n",
    "num_samples = len(train_set)\n",
    "batches_per_epoch = math.ceil(num_samples / batch_size)\n",
    "iters = epochs * batches_per_epoch\n",
    "print(f\"[INFO] Calculated {iters} iterations from {epochs} epochs (dataset size: {num_samples}, batch size: {batch_size})\")\n",
    "\n",
    "train_cpo(\n",
    "    model=model,\n",
    "    args=CPOTrainingArgs(\n",
    "        batch_size=batch_size,\n",
    "        iters=iters,\n",
    "        val_batches=1,\n",
    "        steps_per_report=20,\n",
    "        steps_per_eval=50,\n",
    "        steps_per_save=50,\n",
    "        adapter_file=None,\n",
    "        max_seq_length=max_seq_length,\n",
    "        grad_checkpoint=True,\n",
    "        beta=beta,\n",
    "    ),\n",
    "    optimizer=opt,\n",
    "    train_dataset=CacheDataset(train_set),\n",
    "    val_dataset=CacheDataset(valid_set),\n",
    "    training_callback=TrainingCallback()\n",
    ")"
   ]
  },
  {
   "cell_type": "code",
   "execution_count": null,
   "metadata": {},
   "outputs": [],
   "source": [
    "test_loss, _, _, test_metrics = evaluate_cpo(\n",
    "    model=model,\n",
    "    dataset=test_set,\n",
    "    batch_size=batch_size,\n",
    "    num_batches=1,\n",
    "    max_seq_length=max_seq_length,\n",
    "    beta=beta,\n",
    "    delta=delta,\n",
    "    loss_type=\"sigmoid\",\n",
    ")\n",
    "\n",
    "test_ppl = math.exp(test_loss)\n",
    "\n",
    "print(f\"Test loss {test_loss:.3f}, Test ppl {test_ppl:.3f}\")\n",
    "print(\"CPO Test Metrics:\")\n",
    "\n",
    "for metric_name, metric_value in test_metrics.items():\n",
    "    print(f\"  {metric_name}: {float(metric_value):.3f}\")"
   ]
  },
  {
   "cell_type": "markdown",
   "metadata": {},
   "source": [
    "# Fuse the model with the trained adapters and save the new model"
   ]
  },
  {
   "cell_type": "code",
   "execution_count": null,
   "metadata": {
    "vscode": {
     "languageId": "shellscript"
    }
   },
   "outputs": [],
   "source": [
    "!mlx_lm.fuse --model mlx-community/Josiefied-Qwen3-0.6B-abliterated-v1-4bit --adapter-path path/to/save/adaper --save-path path/to/new/model --upload-repo mlx-comunity/my-new-model"
   ]
  },
  {
   "cell_type": "markdown",
   "metadata": {},
   "source": [
    "# Create the README"
   ]
  },
  {
   "cell_type": "code",
   "execution_count": null,
   "metadata": {},
   "outputs": [],
   "source": [
    "readme_file = f\"\"\"---\n",
    "tags:\n",
    "- mlx\n",
    "- lora\n",
    "- text-generation\n",
    "- fine-tuning\n",
    "base_model: {model_name}\n",
    "pipeline_tag: text-generation\n",
    "---\n",
    "\n",
    "# LoRA Fine-Tuned Model: `{user_name}/{new_model_name}`\n",
    "\n",
    "This model is a LoRA fine-tuned version `{model_name}`, with the [`mlx-lm-lora`](https://github.com/Goekdeniz-Guelmez/mlx-lm-lora) training package on Apple Silicon using MLX.\n",
    "\n",
    "---\n",
    "\n",
    "## 🧾 Model Details\n",
    "\n",
    "- **Model name:** {new_model_name}\n",
    "- **Base model:** {model_name}\n",
    "- **Fine-tuning method:** ORPO\n",
    "- **Training package:** [`MLX-LM-LORA`](https://github.com/Goekdeniz-Guelmez/mlx-lm-lora)\n",
    "- **Model type:** {model.args.model_type}\n",
    "- **Author:** None\n",
    "\n",
    "---\n",
    "\n",
    "## 💡 Recommended System Prompt\n",
    "\n",
    "```text\n",
    "{system_prompt}\n",
    "```\n",
    "\"\"\"\n",
    "\n",
    "new_readme_path = f\"{new_model_name}/README.md\"\n",
    "with open(new_readme_path, \"w\") as new_readme_file:\n",
    "    new_readme_file.write(readme_file)"
   ]
  },
  {
   "cell_type": "markdown",
   "metadata": {},
   "source": [
    "# Upload it to HugginFace"
   ]
  },
  {
   "cell_type": "code",
   "execution_count": null,
   "metadata": {},
   "outputs": [],
   "source": [
    "api = HfApi(token=hf_token)\n",
    "create_repo(\n",
    "  repo_id = f\"{user_name}/{new_model_name}\",\n",
    "  repo_type=\"model\",\n",
    "  exist_ok=True,\n",
    "  token=hf_token,\n",
    "  private=True\n",
    ")\n",
    "api.upload_folder(\n",
    "  folder_path=new_model_name,\n",
    "  repo_id=f\"{user_name}/{new_model_name}\",\n",
    "  token=hf_token,\n",
    "  commit_message=\"Initial Commit\"\n",
    ")"
   ]
  }
 ],
 "metadata": {
  "kernelspec": {
   "display_name": "Python 3",
   "language": "python",
   "name": "python3"
  },
  "language_info": {
   "codemirror_mode": {
    "name": "ipython",
    "version": 3
   },
   "file_extension": ".py",
   "mimetype": "text/x-python",
   "name": "python",
   "nbconvert_exporter": "python",
   "pygments_lexer": "ipython3",
   "version": "3.12.9"
  }
 },
 "nbformat": 4,
 "nbformat_minor": 2
}
