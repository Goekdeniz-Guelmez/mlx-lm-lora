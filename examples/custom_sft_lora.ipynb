{
 "cells": [
  {
   "cell_type": "markdown",
   "metadata": {},
   "source": [
    "# Import necessary packages if not already installed"
   ]
  },
  {
   "cell_type": "code",
   "execution_count": null,
   "metadata": {
    "vscode": {
     "languageId": "shellscript"
    }
   },
   "outputs": [],
   "source": [
    "!pip install mlx-lm-lora mlx-lm datasets"
   ]
  },
  {
   "cell_type": "markdown",
   "metadata": {},
   "source": [
    "# Import your needed modules"
   ]
  },
  {
   "cell_type": "code",
   "execution_count": null,
   "metadata": {},
   "outputs": [],
   "source": [
    "from mlx_lm_lora.trainer.sft_trainer import SFTTrainingArgs, train_sft\n",
    "from mlx_lm_lora.trainer.datasets import CacheDataset, TextDataset\n",
    "from mlx_lm_lora.utils import fuse_model\n",
    "\n",
    "from datasets import load_dataset, concatenate_datasets\n",
    "from huggingface_hub import create_repo, HfApi\n",
    "\n",
    "from mlx_lm.tuner.utils import linear_to_lora_layers, print_trainable_parameters\n",
    "from mlx_lm.tuner.callbacks import TrainingCallback\n",
    "from mlx_lm.utils import load, save_config\n",
    "\n",
    "import mlx.optimizers as optim\n",
    "\n",
    "from pathlib import Path\n",
    "import math"
   ]
  },
  {
   "cell_type": "markdown",
   "metadata": {},
   "source": [
    "# Define the Args"
   ]
  },
  {
   "cell_type": "code",
   "execution_count": 31,
   "metadata": {},
   "outputs": [],
   "source": [
    "hf_token = \"\" # <-- Add you HF Token here\n",
    "\n",
    "model_name = \"mlx-community/Josiefied-Qwen3-0.6B-abliterated-v1-4bit\"\n",
    "new_model_name = \"new-model\"\n",
    "user_name = \"mlx-community\"\n",
    "\n",
    "adapter_path = \"path/to/adapters\"\n",
    "max_seq_length = 512\n",
    "num_layers = 12\n",
    "lora_parameters = {\"rank\": 8, \"dropout\": 0.0, \"scale\": 10.0}\n",
    "\n",
    "dataset_names = [\n",
    "    \"digitalpipelines/wizard_vicuna_70k_uncensored\"\n",
    "]\n",
    "dataset_samples = 1000"
   ]
  },
  {
   "cell_type": "markdown",
   "metadata": {},
   "source": [
    "# Load the model"
   ]
  },
  {
   "cell_type": "code",
   "execution_count": null,
   "metadata": {},
   "outputs": [],
   "source": [
    "model, tokenizer = load(model_name)"
   ]
  },
  {
   "cell_type": "markdown",
   "metadata": {},
   "source": [
    "# Convert to LoRA"
   ]
  },
  {
   "cell_type": "code",
   "execution_count": null,
   "metadata": {},
   "outputs": [],
   "source": [
    "model.freeze()\n",
    "\n",
    "linear_to_lora_layers(\n",
    "    model=model,\n",
    "    num_layers=num_layers,\n",
    "    config=lora_parameters,\n",
    "    use_dora=False,\n",
    ")\n",
    "\n",
    "print_trainable_parameters(model)"
   ]
  },
  {
   "cell_type": "markdown",
   "metadata": {},
   "source": [
    "# Define the Optimizer"
   ]
  },
  {
   "cell_type": "code",
   "execution_count": 4,
   "metadata": {},
   "outputs": [],
   "source": [
    "opt = optim.AdamW(learning_rate=1e-5)"
   ]
  },
  {
   "cell_type": "markdown",
   "metadata": {},
   "source": [
    "# Load and Preprocess your Dataset"
   ]
  },
  {
   "cell_type": "code",
   "execution_count": 26,
   "metadata": {},
   "outputs": [],
   "source": [
    "system_prompt = \"\"\"You are **J.O.S.I.E.**, an advanced super-intelligent AI Assistant created by a 25 year old man named **Gökdeniz Gülmez**.\"\"\"\n",
    "\n",
    "def format_prompts_func(sample):\n",
    "    this_conversation = sample[\"conversations\"]\n",
    "\n",
    "    if isinstance(this_conversation, list):\n",
    "        conversation = []\n",
    "        conversation.append({\"role\": \"system\", \"content\": system_prompt})\n",
    "        for turn in this_conversation:\n",
    "            if turn[\"from\"] == \"human\":\n",
    "                conversation.append({\"role\": \"user\", \"content\": turn['value']})\n",
    "            elif turn[\"from\"] == \"gpt\":\n",
    "                conversation.append({\"role\": \"assistant\", \"content\": turn['value']})\n",
    "        \n",
    "    sample[\"text\"] = tokenizer.apply_chat_template(\n",
    "        conversation=conversation,\n",
    "        add_generation_prompt=False,\n",
    "        enable_thinking=False, # <- Only for Qwen models\n",
    "        tokenize=False\n",
    "    )\n",
    "    return sample\n",
    "\n",
    "datasets = [load_dataset(name)[\"train\"] for name in dataset_names]\n",
    "combined_dataset = concatenate_datasets(datasets)\n",
    "\n",
    "if dataset_samples is not None:\n",
    "    combined_dataset = combined_dataset.select(range(dataset_samples))\n",
    "\n",
    "full_dataset = combined_dataset.map(format_prompts_func,)\n",
    "\n",
    "train_dataset, valid_dataset = full_dataset.train_test_split(test_size=0.01, seed=42).values() # Split the full dataset into 99# Train and 1% Validation"
   ]
  },
  {
   "cell_type": "code",
   "execution_count": null,
   "metadata": {},
   "outputs": [],
   "source": [
    "print(train_dataset[0][\"text\"])"
   ]
  },
  {
   "cell_type": "markdown",
   "metadata": {},
   "source": [
    "# 📦 Make the Dataset for the trainer\n",
    "\n",
    "You have multiple dataset wrappers available depending on your training format:\n",
    "\n",
    "- **`TextDataset`**: Use this when your data is a plain string under a specific key like `\"text\"`.\n",
    "- **`CompletionsDataset`**: Use when you have separate fields like `prompt` and `completion`.\n",
    "- **`ChatDataset`**: Use this for structured chat data like Alpaca-style, ShareGPT, etc.\n",
    "\n",
    "Be sure to import the wanted Dataset classes above."
   ]
  },
  {
   "cell_type": "code",
   "execution_count": null,
   "metadata": {},
   "outputs": [],
   "source": [
    "train_set = TextDataset(train_dataset, tokenizer, text_key='text')\n",
    "valid_set = TextDataset(valid_dataset, tokenizer, text_key='text')"
   ]
  },
  {
   "cell_type": "markdown",
   "metadata": {},
   "source": [
    "# Make the Adapter Folder and save the configs for loading later"
   ]
  },
  {
   "cell_type": "code",
   "execution_count": null,
   "metadata": {},
   "outputs": [],
   "source": [
    "args = {\n",
    "    \"lora_parameters\": lora_parameters,\n",
    "    \"num_layers\": num_layers,\n",
    "}\n",
    "\n",
    "adapter_path = Path(adapter_path)\n",
    "adapter_path.mkdir(parents=True, exist_ok=True)\n",
    "\n",
    "adapter_file = adapter_path / \"adapters.safetensors\"\n",
    "save_config(args, adapter_path / \"adapter_config.json\")"
   ]
  },
  {
   "cell_type": "markdown",
   "metadata": {},
   "source": [
    "# Start training"
   ]
  },
  {
   "cell_type": "code",
   "execution_count": null,
   "metadata": {},
   "outputs": [],
   "source": [
    "batch_size = 4\n",
    "epochs = 2\n",
    "\n",
    "num_samples = len(train_set)\n",
    "batches_per_epoch = math.ceil(num_samples / batch_size)\n",
    "iters = epochs * batches_per_epoch\n",
    "print(f\"[INFO] Calculated {iters} iterations from {epochs} epochs (dataset size: {num_samples}, batch size: {batch_size})\")\n",
    "\n",
    "train_sft(\n",
    "    model=model,\n",
    "    args=SFTTrainingArgs(\n",
    "        batch_size=batch_size,\n",
    "        iters=iters,\n",
    "        val_batches=1,\n",
    "        steps_per_report=20,\n",
    "        steps_per_eval=50,\n",
    "        steps_per_save=50,\n",
    "        adapter_file=adapter_path,\n",
    "        max_seq_length=max_seq_length,\n",
    "        grad_checkpoint=True,\n",
    "    ),\n",
    "    optimizer=opt,\n",
    "    train_dataset=CacheDataset(train_set),\n",
    "    val_dataset=CacheDataset(valid_set),\n",
    "    training_callback=TrainingCallback()\n",
    ")"
   ]
  },
  {
   "cell_type": "markdown",
   "metadata": {},
   "source": [
    "# Fuse the model with the trained adapters and save the new model"
   ]
  },
  {
   "cell_type": "code",
   "execution_count": null,
   "metadata": {},
   "outputs": [],
   "source": [
    "fuse_model(\n",
    "    model=model,\n",
    "    tokenizer=tokenizer,\n",
    "    save_path=new_model_name,\n",
    "    adapter_path=adapter_path,\n",
    "    de_quantize=False,\n",
    "    export_gguf=False,\n",
    "    gguf_path=f\"{new_model_name}/model.gguf\",\n",
    ")"
   ]
  },
  {
   "cell_type": "markdown",
   "metadata": {},
   "source": [
    "# Create the README"
   ]
  },
  {
   "cell_type": "code",
   "execution_count": null,
   "metadata": {},
   "outputs": [],
   "source": [
    "readme_file = f\"\"\"---\n",
    "tags:\n",
    "- mlx\n",
    "- lora\n",
    "- text-generation\n",
    "- fine-tuning\n",
    "base_model: {model_name}\n",
    "pipeline_tag: text-generation\n",
    "---\n",
    "\n",
    "# LoRA Fine-Tuned Model: `{user_name}/{new_model_name}`\n",
    "\n",
    "This model is a LoRA fine-tuned version `{model_name}`, with the [`mlx-lm-lora`](https://github.com/Goekdeniz-Guelmez/mlx-lm-lora) training package on Apple Silicon using MLX.\n",
    "\n",
    "---\n",
    "\n",
    "## 🧾 Model Details\n",
    "\n",
    "- **Model name:** {new_model_name}\n",
    "- **Base model:** {model_name}\n",
    "- **Fine-tuning method:** LoRA\n",
    "- **Training package:** [`MLX-LM-LORA`](https://github.com/Goekdeniz-Guelmez/mlx-lm-lora)\n",
    "- **Model type:** {model.args.model_type}\n",
    "- **Author:** None\n",
    "\n",
    "---\n",
    "\n",
    "## 💡 Recommended System Prompt\n",
    "\n",
    "```text\n",
    "{system_prompt}\n",
    "```\n",
    "\"\"\"\n",
    "\n",
    "new_readme_path = f\"{new_model_name}/README.md\"\n",
    "with open(new_readme_path, \"w\") as new_readme_file:\n",
    "    new_readme_file.write(readme_file)"
   ]
  },
  {
   "cell_type": "markdown",
   "metadata": {},
   "source": [
    "# Upload it to HugginFace"
   ]
  },
  {
   "cell_type": "code",
   "execution_count": null,
   "metadata": {},
   "outputs": [],
   "source": [
    "api = HfApi(token=hf_token)\n",
    "create_repo(\n",
    "  repo_id = f\"{user_name}/{new_model_name}\",\n",
    "  repo_type=\"model\",\n",
    "  exist_ok=True,\n",
    "  token=hf_token,\n",
    "  private=True\n",
    ")\n",
    "api.upload_folder(\n",
    "  folder_path=new_model_name,\n",
    "  repo_id=f\"{user_name}/{new_model_name}\",\n",
    "  token=hf_token,\n",
    "  commit_message=\"Initial Commit\"\n",
    ")"
   ]
  }
 ],
 "metadata": {
  "kernelspec": {
   "display_name": "Python 3",
   "language": "python",
   "name": "python3"
  },
  "language_info": {
   "codemirror_mode": {
    "name": "ipython",
    "version": 3
   },
   "file_extension": ".py",
   "mimetype": "text/x-python",
   "name": "python",
   "nbconvert_exporter": "python",
   "pygments_lexer": "ipython3",
   "version": "3.11.11"
  }
 },
 "nbformat": 4,
 "nbformat_minor": 2
}
