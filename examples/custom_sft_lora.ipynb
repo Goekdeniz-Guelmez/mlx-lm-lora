{
 "cells": [
  {
   "cell_type": "markdown",
   "metadata": {},
   "source": [
    "# Import necessary packages if not already installed"
   ]
  },
  {
   "cell_type": "code",
   "execution_count": null,
   "metadata": {
    "vscode": {
     "languageId": "shellscript"
    }
   },
   "outputs": [],
   "source": [
    "!pip install mlx-lm-lora mlx-lm datasets"
   ]
  },
  {
   "cell_type": "markdown",
   "metadata": {},
   "source": [
    "# Import your needed modules"
   ]
  },
  {
   "cell_type": "code",
   "execution_count": 30,
   "metadata": {},
   "outputs": [],
   "source": [
    "from mlx_lm_lora.trainer.sft_trainer import SFTTrainingArgs, train_sft\n",
    "from mlx_lm_lora.trainer.datasets import CacheDataset, TextDataset\n",
    "\n",
    "from datasets import load_dataset, concatenate_datasets\n",
    "\n",
    "from mlx_lm.tuner.callbacks import TrainingCallback\n",
    "from mlx_lm.utils import load\n",
    "from mlx_lm.tuner.utils import linear_to_lora_layers, print_trainable_parameters\n",
    "\n",
    "import mlx.optimizers as optim"
   ]
  },
  {
   "cell_type": "markdown",
   "metadata": {},
   "source": [
    "# Define the Args"
   ]
  },
  {
   "cell_type": "code",
   "execution_count": 31,
   "metadata": {},
   "outputs": [],
   "source": [
    "model_name = \"mlx-community/Josiefied-Qwen3-0.6B-abliterated-v1-4bit\"\n",
    "new_model_name = \"Josiefied-Qwen3-14B-abliterated-v3\"\n",
    "adapter_path = \"path/to/adapters\"\n",
    "max_seq_length = 512\n",
    "num_layers = 12\n",
    "lora_parameters = {\"rank\": 8, \"dropout\": 0.0, \"scale\": 10.0}\n",
    "\n",
    "dataset_names = [\n",
    "    \"Goekdeniz-Guelmez/Wizzard-smol\"\n",
    "]\n",
    "dataset_samples = None"
   ]
  },
  {
   "cell_type": "markdown",
   "metadata": {},
   "source": [
    "# Load the model"
   ]
  },
  {
   "cell_type": "code",
   "execution_count": null,
   "metadata": {},
   "outputs": [],
   "source": [
    "model, tokenizer = load(model_name)"
   ]
  },
  {
   "cell_type": "markdown",
   "metadata": {},
   "source": [
    "# Convert to LoRA"
   ]
  },
  {
   "cell_type": "code",
   "execution_count": null,
   "metadata": {},
   "outputs": [],
   "source": [
    "model.freeze()\n",
    "\n",
    "linear_to_lora_layers(\n",
    "    model=model,\n",
    "    num_layers=num_layers,\n",
    "    config=lora_parameters,\n",
    "    use_dora=False,\n",
    ")\n",
    "\n",
    "print_trainable_parameters(model)"
   ]
  },
  {
   "cell_type": "markdown",
   "metadata": {},
   "source": [
    "# Define the Optimizer"
   ]
  },
  {
   "cell_type": "code",
   "execution_count": 4,
   "metadata": {},
   "outputs": [],
   "source": [
    "opt = optim.AdamW(learning_rate=1e-5)"
   ]
  },
  {
   "cell_type": "markdown",
   "metadata": {},
   "source": [
    "# Load and Preprocess your Dataset"
   ]
  },
  {
   "cell_type": "code",
   "execution_count": 26,
   "metadata": {},
   "outputs": [],
   "source": [
    "system_prompt = \"\"\"You are **J.O.S.I.E.**, an advanced super-intelligent AI Assistant created by a 25 year old man named **Gökdeniz Gülmez**.\"\"\"\n",
    "\n",
    "def format_prompts_func(sample):\n",
    "    this_conversation = sample[\"conversations\"]\n",
    "\n",
    "    if isinstance(this_conversation, list):\n",
    "        conversation = []\n",
    "        conversation.append({\"role\": \"system\", \"content\": system_prompt})\n",
    "        for turn in this_conversation:\n",
    "            if turn[\"from\"] == \"human\":\n",
    "                conversation.append({\"role\": \"user\", \"content\": turn['value']})\n",
    "            elif turn[\"from\"] == \"gpt\":\n",
    "                conversation.append({\"role\": \"assistant\", \"content\": turn['value']})\n",
    "        \n",
    "    sample[\"text\"] = tokenizer.apply_chat_template(\n",
    "        conversation=conversation,\n",
    "        add_generation_prompt=False,\n",
    "        enable_thinking=False, # <- Only for Qwen models\n",
    "        tokenize=False\n",
    "    )\n",
    "    return sample\n",
    "\n",
    "datasets = [load_dataset(name)[\"train\"] for name in dataset_names]\n",
    "combined_dataset = concatenate_datasets(datasets)\n",
    "\n",
    "if dataset_samples is not None:\n",
    "    combined_dataset = combined_dataset.select(range(dataset_samples))\n",
    "\n",
    "full_dataset = combined_dataset.map(format_prompts_func,)\n",
    "\n",
    "train_dataset, valid_dataset = full_dataset.train_test_split(test_size=0.01, seed=42).values() # Split the full dataset into 99# Train and 1% Validation"
   ]
  },
  {
   "cell_type": "code",
   "execution_count": null,
   "metadata": {},
   "outputs": [],
   "source": [
    "print(train_dataset[0][\"text\"])"
   ]
  },
  {
   "cell_type": "markdown",
   "metadata": {},
   "source": [
    "# 📦 Make the Dataset for the trainer\n",
    "\n",
    "You have multiple dataset wrappers available depending on your training format:\n",
    "\n",
    "- **`TextDataset`**: Use this when your data is a plain string under a specific key like `\"text\"`.\n",
    "- **`CompletionsDataset`**: Use when you have separate fields like `prompt` and `completion`.\n",
    "- **`ChatDataset`**: Use this for structured chat data like Alpaca-style, ShareGPT, etc.\n",
    "\n",
    "Be sure to import the wanted Dataset classes above."
   ]
  },
  {
   "cell_type": "code",
   "execution_count": null,
   "metadata": {},
   "outputs": [],
   "source": [
    "train_set = TextDataset(train_dataset, tokenizer, text_key='text')\n",
    "valid_set = TextDataset(train_dataset, tokenizer, text_key='text')"
   ]
  },
  {
   "cell_type": "markdown",
   "metadata": {},
   "source": [
    "# Start training"
   ]
  },
  {
   "cell_type": "code",
   "execution_count": null,
   "metadata": {},
   "outputs": [],
   "source": [
    "train_sft(\n",
    "    model=model,\n",
    "    args=SFTTrainingArgs(\n",
    "        batch_size=1,\n",
    "        iters=100,\n",
    "        val_batches=1,\n",
    "        steps_per_report=20,\n",
    "        steps_per_eval=50,\n",
    "        steps_per_save=50,\n",
    "        adapter_file=\"path/to/adapter/file\",\n",
    "        max_seq_length=512,\n",
    "        grad_checkpoint=True,\n",
    "    ),\n",
    "    optimizer=opt,\n",
    "    train_dataset=CacheDataset(train_set),\n",
    "    val_dataset=CacheDataset(valid_set),\n",
    "    training_callback=TrainingCallback()\n",
    ")"
   ]
  },
  {
   "cell_type": "markdown",
   "metadata": {},
   "source": [
    "# Fuse the model with the trained adapters and save the new model"
   ]
  },
  {
   "cell_type": "code",
   "execution_count": null,
   "metadata": {
    "vscode": {
     "languageId": "shellscript"
    }
   },
   "outputs": [],
   "source": [
    "!mlx_lm.fuse --model mlx-community/Josiefied-Qwen3-0.6B-abliterated-v1-4bit --adapter-path path/to/save/adaper --save-path path/to/new/model --upload-repo mlx-comunity/my-new-model"
   ]
  }
 ],
 "metadata": {
  "kernelspec": {
   "display_name": "base",
   "language": "python",
   "name": "python3"
  },
  "language_info": {
   "codemirror_mode": {
    "name": "ipython",
    "version": 3
   },
   "file_extension": ".py",
   "mimetype": "text/x-python",
   "name": "python",
   "nbconvert_exporter": "python",
   "pygments_lexer": "ipython3",
   "version": "3.12.9"
  }
 },
 "nbformat": 4,
 "nbformat_minor": 2
}
