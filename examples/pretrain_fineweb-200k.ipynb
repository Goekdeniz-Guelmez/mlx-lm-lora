{
 "cells": [
  {
   "cell_type": "markdown",
   "metadata": {},
   "source": [
    "# Import nesesairy packages if not already installed"
   ]
  },
  {
   "cell_type": "code",
   "execution_count": null,
   "metadata": {
    "vscode": {
     "languageId": "shellscript"
    }
   },
   "outputs": [],
   "source": [
    "!pip install mlx-lm-lora mlx-lm"
   ]
  },
  {
   "cell_type": "markdown",
   "metadata": {},
   "source": [
    "# Define your training paramters"
   ]
  },
  {
   "cell_type": "code",
   "execution_count": null,
   "metadata": {},
   "outputs": [],
   "source": [
    "from mlx_lm_lora.train import main\n",
    "from mlx_lm_lora.utils import fuse_model\n",
    "\n",
    "args = {\n",
    "    \"model\": \"mlx-community/Josiefied-Qwen3-0.6B-abliterated-v1-4bit\",\n",
    "    \"data\": \"mlx-community/fineweb-200k\",\n",
    "    \"train\": True,\n",
    "    \"train_mode\": \"sft\",\n",
    "    \"train_type\": \"full\",\n",
    "    \"optimizer\": \"muon\",\n",
    "    \"epochs\": 10,\n",
    "    \"batch_size\": 1,\n",
    "    \"steps_per_report\": 10,\n",
    "    \"steps_per_eval\": 50,\n",
    "    \"wandb\": \"mlx-lm-full-uft-example\",\n",
    "    \"mask_prompt\": False,\n",
    "    \"adapter_path\": \"path/to/save/adaper\",\n",
    "    \"save_every\": 10\n",
    "}"
   ]
  },
  {
   "cell_type": "markdown",
   "metadata": {},
   "source": [
    "# Start training"
   ]
  },
  {
   "cell_type": "code",
   "execution_count": null,
   "metadata": {},
   "outputs": [],
   "source": [
    "main(args)"
   ]
  },
  {
   "cell_type": "markdown",
   "metadata": {},
   "source": [
    "# Fuse the model adapters and save the new model"
   ]
  },
  {
   "cell_type": "code",
   "execution_count": null,
   "metadata": {},
   "outputs": [],
   "source": [
    "fuse_model(\n",
    "    model=model,\n",
    "    tokenizer=tokenizer,\n",
    "    save_path=new_model_path,\n",
    "    adapter_path=adapter_path,\n",
    "    de_quantize=False,\n",
    "    export_gguf=False,\n",
    "    gguf_path=f\"{new_model_path}/model.gguf\",\n",
    ")"
   ]
  }
 ],
 "metadata": {
  "kernelspec": {
   "display_name": "base",
   "language": "python",
   "name": "python3"
  },
  "language_info": {
   "codemirror_mode": {
    "name": "ipython",
    "version": 3
   },
   "file_extension": ".py",
   "mimetype": "text/x-python",
   "name": "python",
   "nbconvert_exporter": "python",
   "pygments_lexer": "ipython3",
   "version": "3.12.9"
  }
 },
 "nbformat": 4,
 "nbformat_minor": 2
}
