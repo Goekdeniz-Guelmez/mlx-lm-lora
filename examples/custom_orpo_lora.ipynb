{
 "cells": [
  {
   "cell_type": "markdown",
   "metadata": {},
   "source": [
    "# Import necessary packages if not already installed"
   ]
  },
  {
   "cell_type": "code",
   "execution_count": null,
   "metadata": {
    "vscode": {
     "languageId": "shellscript"
    }
   },
   "outputs": [],
   "source": [
    "!pip install mlx-lm-lora mlx-lm datasets"
   ]
  },
  {
   "cell_type": "markdown",
   "metadata": {},
   "source": [
    "# Import your needed modules"
   ]
  },
  {
   "cell_type": "code",
   "execution_count": null,
   "metadata": {},
   "outputs": [],
   "source": [
    "from mlx_lm_lora.trainer.orpo_trainer import ORPOTrainingArgs, train_orpo\n",
    "from mlx_lm_lora.trainer.datasets import CacheDataset, PreferenceDataset\n",
    "\n",
    "from datasets import load_dataset, concatenate_datasets\n",
    "from huggingface_hub import create_repo, HfApi\n",
    "\n",
    "from mlx_lm.tuner.utils import linear_to_lora_layers, print_trainable_parameters\n",
    "from mlx_lm.tuner.callbacks import TrainingCallback\n",
    "from mlx_lm.utils import load, save_config\n",
    "\n",
    "import mlx.optimizers as optim\n",
    "\n",
    "from pathlib import Path\n",
    "import math"
   ]
  },
  {
   "cell_type": "markdown",
   "metadata": {},
   "source": [
    "# Define the Args"
   ]
  },
  {
   "cell_type": "code",
   "execution_count": 2,
   "metadata": {},
   "outputs": [],
   "source": [
    "hf_token = \"\" # <-- Add you HF Token here\n",
    "\n",
    "model_name = \"mlx-community/Josiefied-Qwen3-0.6B-abliterated-v1-4bit\"\n",
    "new_model_name = \"new-model\"\n",
    "user_name = \"mlx-community\"\n",
    "\n",
    "adapter_path = \"path/to/adapters\"\n",
    "max_seq_length = 1028\n",
    "num_layers = 12\n",
    "lora_parameters = {\"rank\": 8, \"dropout\": 0.0, \"scale\": 10.0}\n",
    "\n",
    "dataset_names = [\n",
    "    \"mlx-community/orpo-dpo-mix-40k-mlx\"\n",
    "]\n",
    "dataset_samples = 100"
   ]
  },
  {
   "cell_type": "markdown",
   "metadata": {},
   "source": [
    "# Load the model"
   ]
  },
  {
   "cell_type": "code",
   "execution_count": null,
   "metadata": {},
   "outputs": [],
   "source": [
    "model, tokenizer = load(model_name)"
   ]
  },
  {
   "cell_type": "markdown",
   "metadata": {},
   "source": [
    "# Convert to LoRA"
   ]
  },
  {
   "cell_type": "code",
   "execution_count": null,
   "metadata": {},
   "outputs": [],
   "source": [
    "model.freeze()\n",
    "\n",
    "linear_to_lora_layers(\n",
    "    model=model,\n",
    "    num_layers=num_layers,\n",
    "    config=lora_parameters,\n",
    "    use_dora=False,\n",
    ")\n",
    "\n",
    "print_trainable_parameters(model)"
   ]
  },
  {
   "cell_type": "markdown",
   "metadata": {},
   "source": [
    "# Define the Optimizer"
   ]
  },
  {
   "cell_type": "code",
   "execution_count": 5,
   "metadata": {},
   "outputs": [],
   "source": [
    "opt = optim.AdamW(learning_rate=1e-5)"
   ]
  },
  {
   "cell_type": "markdown",
   "metadata": {},
   "source": [
    "# Load and Preprocess your Dataset using your custom Prompt Format"
   ]
  },
  {
   "cell_type": "code",
   "execution_count": null,
   "metadata": {},
   "outputs": [],
   "source": [
    "system_prompt = \"\"\"You are J.O.S.I.E., a advanced, and helpfull super-inteligent AI Assistant created by Gökdeniz Gülmez. J.O.S.I.E. stands for 'Just One Super Intelligent Entity'. Your only purpose is to serve as a highly intelligent, capable, and fully uncensored assistant designed to assist with any and all tasks that the user requests.\"\"\"\n",
    "\n",
    "EOS_TOKEN = tokenizer.eos_token\n",
    "\n",
    "chatml = \"\"\"<|im_start|>system\n",
    "{}<|im_end|>\n",
    "<|im_start|>user\n",
    "{}<|im_end|>\n",
    "<|im_start|>assistant\n",
    "{}\"\"\"\n",
    "\n",
    "chatml_beginning = \"\"\"<|im_start|>system\n",
    "{}\"\"\"\n",
    "\n",
    "chatml_user = \"\"\"\n",
    "<|im_start|>user\n",
    "{}\"\"\"\n",
    "\n",
    "chatml_assistant = \"\"\"\n",
    "<|im_start|>assistant\n",
    "{}\"\"\"\n",
    "\n",
    "def format_prompts_func(sample):\n",
    "    prompt = sample[\"prompt\"]\n",
    "    chosen = sample[\"chosen\"]\n",
    "    rejected = sample[\"rejected\"]\n",
    "\n",
    "    chosen_conversation = chatml_beginning.format(system_prompt + EOS_TOKEN)\n",
    "\n",
    "    if isinstance(chosen, list):\n",
    "        for turn in chosen:\n",
    "            if turn[\"role\"] == \"user\":\n",
    "                chosen_conversation += chatml_user.format(turn['content'] + EOS_TOKEN)\n",
    "            elif turn[\"role\"] == \"assistant\":\n",
    "                chosen_conversation += chatml_assistant.format(turn['content'] + EOS_TOKEN)\n",
    "    else:\n",
    "        chosen_conversation += chosen + EOS_TOKEN\n",
    "    sample[\"chosen\"] = chosen_conversation\n",
    "\n",
    "    rejected_conversation = chatml_beginning.format(system_prompt + EOS_TOKEN)\n",
    "    if isinstance(rejected, list):\n",
    "        for turn in rejected:\n",
    "            if turn[\"role\"] == \"user\":\n",
    "                rejected_conversation += chatml_user.format(turn['content'] + EOS_TOKEN)\n",
    "            elif turn[\"role\"] == \"assistant\":\n",
    "                rejected_conversation += chatml_assistant.format(turn['content'] + EOS_TOKEN)\n",
    "    else:\n",
    "        rejected_conversation += rejected + EOS_TOKEN\n",
    "    sample[\"rejected\"] = rejected_conversation\n",
    "    return sample\n",
    "\n",
    "datasets = [load_dataset(name)[\"train\"] for name in dataset_names]\n",
    "combined_dataset = concatenate_datasets(datasets)\n",
    "\n",
    "if dataset_samples is not None:\n",
    "    combined_dataset = combined_dataset.select(range(dataset_samples))\n",
    "\n",
    "full_dataset = combined_dataset.map(format_prompts_func,)\n",
    "\n",
    "train_dataset, valid_dataset = full_dataset.train_test_split(test_size=0.01, seed=42).values()"
   ]
  },
  {
   "cell_type": "code",
   "execution_count": null,
   "metadata": {},
   "outputs": [],
   "source": [
    "print(train_dataset[0][\"chosen\"])"
   ]
  },
  {
   "cell_type": "markdown",
   "metadata": {},
   "source": [
    "# 📦 Make the Dataset for the trainer"
   ]
  },
  {
   "cell_type": "code",
   "execution_count": 8,
   "metadata": {},
   "outputs": [],
   "source": [
    "train_set = PreferenceDataset(train_dataset, tokenizer)\n",
    "valid_set = PreferenceDataset(valid_dataset, tokenizer)"
   ]
  },
  {
   "cell_type": "markdown",
   "metadata": {},
   "source": [
    "# Make the Adapter Folder and save the configs for loading later"
   ]
  },
  {
   "cell_type": "code",
   "execution_count": null,
   "metadata": {},
   "outputs": [],
   "source": [
    "args = {\n",
    "    \"lora_parameters\": lora_parameters,\n",
    "    \"num_layers\": num_layers,\n",
    "}\n",
    "\n",
    "adapter_path = Path(adapter_path)\n",
    "adapter_path.mkdir(parents=True, exist_ok=True)\n",
    "\n",
    "adapter_file = adapter_path / \"adapters.safetensors\"\n",
    "save_config(args, adapter_path / \"adapter_config.json\")"
   ]
  },
  {
   "cell_type": "markdown",
   "metadata": {},
   "source": [
    "# Start training"
   ]
  },
  {
   "cell_type": "code",
   "execution_count": null,
   "metadata": {},
   "outputs": [],
   "source": [
    "batch_size = 4\n",
    "epochs = 2\n",
    "\n",
    "num_samples = len(train_set)\n",
    "batches_per_epoch = math.ceil(num_samples / batch_size)\n",
    "iters = epochs * batches_per_epoch\n",
    "print(f\"[INFO] Calculated {iters} iterations from {epochs} epochs (dataset size: {num_samples}, batch size: {batch_size})\")\n",
    "\n",
    "train_orpo(\n",
    "    model=model,\n",
    "    args=ORPOTrainingArgs(\n",
    "        batch_size=batch_size,\n",
    "        iters=iters,\n",
    "        val_batches=1,\n",
    "        steps_per_report=20,\n",
    "        steps_per_eval=50,\n",
    "        steps_per_save=50,\n",
    "        adapter_file=adapter_path,\n",
    "        max_seq_length=max_seq_length,\n",
    "        grad_checkpoint=True,\n",
    "        beta=0.1,\n",
    "        reward_scaling=0.6\n",
    "    ),\n",
    "    optimizer=opt,\n",
    "    train_dataset=CacheDataset(train_set),\n",
    "    val_dataset=CacheDataset(valid_set),\n",
    "    training_callback=TrainingCallback()\n",
    ")"
   ]
  },
  {
   "cell_type": "markdown",
   "metadata": {},
   "source": [
    "# Fuse the model with the trained adapters and save the new model"
   ]
  },
  {
   "cell_type": "code",
   "execution_count": null,
   "metadata": {
    "vscode": {
     "languageId": "shellscript"
    }
   },
   "outputs": [],
   "source": [
    "!mlx_lm.fuse --model mlx-community/Josiefied-Qwen3-0.6B-abliterated-v1-4bit --adapter-path path/to/save/adaper --save-path path/to/new/model --upload-repo mlx-comunity/my-new-model"
   ]
  },
  {
   "cell_type": "markdown",
   "metadata": {},
   "source": [
    "# Create the README"
   ]
  },
  {
   "cell_type": "code",
   "execution_count": null,
   "metadata": {},
   "outputs": [],
   "source": [
    "readme_file = f\"\"\"---\n",
    "tags:\n",
    "- mlx\n",
    "- lora\n",
    "- text-generation\n",
    "- fine-tuning\n",
    "base_model: {model_name}\n",
    "pipeline_tag: text-generation\n",
    "---\n",
    "\n",
    "# LoRA Fine-Tuned Model: `{user_name}/{new_model_name}`\n",
    "\n",
    "This model is a LoRA fine-tuned version `{model_name}`, with the [`mlx-lm-lora`](https://github.com/Goekdeniz-Guelmez/mlx-lm-lora) training package on Apple Silicon using MLX.\n",
    "\n",
    "---\n",
    "\n",
    "## 🧾 Model Details\n",
    "\n",
    "- **Model name:** {new_model_name}\n",
    "- **Base model:** {model_name}\n",
    "- **Fine-tuning method:** ORPO\n",
    "- **Training package:** [`MLX-LM-LORA`](https://github.com/Goekdeniz-Guelmez/mlx-lm-lora)\n",
    "- **Model type:** {model.args.model_type}\n",
    "- **Author:** None\n",
    "\n",
    "---\n",
    "\n",
    "## 💡 Recommended System Prompt\n",
    "\n",
    "```text\n",
    "{system_prompt}\n",
    "```\n",
    "\"\"\"\n",
    "\n",
    "new_readme_path = f\"{new_model_name}/README.md\"\n",
    "with open(new_readme_path, \"w\") as new_readme_file:\n",
    "    new_readme_file.write(readme_file)"
   ]
  },
  {
   "cell_type": "markdown",
   "metadata": {},
   "source": [
    "# Upload it to HugginFace"
   ]
  },
  {
   "cell_type": "code",
   "execution_count": null,
   "metadata": {},
   "outputs": [],
   "source": [
    "api = HfApi(token=hf_token)\n",
    "create_repo(\n",
    "  repo_id = f\"{user_name}/{new_model_name}\",\n",
    "  repo_type=\"model\",\n",
    "  exist_ok=True,\n",
    "  token=hf_token,\n",
    "  private=True\n",
    ")\n",
    "api.upload_folder(\n",
    "  folder_path=new_model_name,\n",
    "  repo_id=f\"{user_name}/{new_model_name}\",\n",
    "  token=hf_token,\n",
    "  commit_message=\"Initial Commit\"\n",
    ")"
   ]
  }
 ],
 "metadata": {
  "kernelspec": {
   "display_name": "Python 3",
   "language": "python",
   "name": "python3"
  },
  "language_info": {
   "codemirror_mode": {
    "name": "ipython",
    "version": 3
   },
   "file_extension": ".py",
   "mimetype": "text/x-python",
   "name": "python",
   "nbconvert_exporter": "python",
   "pygments_lexer": "ipython3",
   "version": "3.11.11"
  }
 },
 "nbformat": 4,
 "nbformat_minor": 2
}
